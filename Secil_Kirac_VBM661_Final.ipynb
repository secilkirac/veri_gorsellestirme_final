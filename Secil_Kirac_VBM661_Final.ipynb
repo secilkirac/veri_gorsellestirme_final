{
  "nbformat": 4,
  "nbformat_minor": 0,
  "metadata": {
    "colab": {
      "provenance": [],
      "authorship_tag": "ABX9TyMUnEx8SkY21c47gHx/VgxM",
      "include_colab_link": true
    },
    "kernelspec": {
      "name": "python3",
      "display_name": "Python 3"
    },
    "language_info": {
      "name": "python"
    }
  },
  "cells": [
    {
      "cell_type": "markdown",
      "metadata": {
        "id": "view-in-github",
        "colab_type": "text"
      },
      "source": [
        "<a href=\"https://colab.research.google.com/github/secilkirac/veri_gorsellestirme_final/blob/main/Secil_Kirac_VBM661_Final.ipynb\" target=\"_parent\"><img src=\"https://colab.research.google.com/assets/colab-badge.svg\" alt=\"Open In Colab\"/></a>"
      ]
    },
    {
      "cell_type": "code",
      "execution_count": 2,
      "metadata": {
        "colab": {
          "base_uri": "https://localhost:8080/",
          "height": 881
        },
        "id": "3L4wHWnvc0ce",
        "outputId": "72fc8d93-8dd6-46e0-fdd7-e269a0aa330c"
      },
      "outputs": [
        {
          "output_type": "stream",
          "name": "stdout",
          "text": [
            "Requirement already satisfied: geopandas in /usr/local/lib/python3.10/dist-packages (0.13.2)\n",
            "Requirement already satisfied: fiona>=1.8.19 in /usr/local/lib/python3.10/dist-packages (from geopandas) (1.9.5)\n",
            "Requirement already satisfied: packaging in /usr/local/lib/python3.10/dist-packages (from geopandas) (23.2)\n",
            "Requirement already satisfied: pandas>=1.1.0 in /usr/local/lib/python3.10/dist-packages (from geopandas) (1.5.3)\n",
            "Requirement already satisfied: pyproj>=3.0.1 in /usr/local/lib/python3.10/dist-packages (from geopandas) (3.6.1)\n",
            "Requirement already satisfied: shapely>=1.7.1 in /usr/local/lib/python3.10/dist-packages (from geopandas) (2.0.2)\n",
            "Requirement already satisfied: attrs>=19.2.0 in /usr/local/lib/python3.10/dist-packages (from fiona>=1.8.19->geopandas) (23.1.0)\n",
            "Requirement already satisfied: certifi in /usr/local/lib/python3.10/dist-packages (from fiona>=1.8.19->geopandas) (2023.11.17)\n",
            "Requirement already satisfied: click~=8.0 in /usr/local/lib/python3.10/dist-packages (from fiona>=1.8.19->geopandas) (8.1.7)\n",
            "Requirement already satisfied: click-plugins>=1.0 in /usr/local/lib/python3.10/dist-packages (from fiona>=1.8.19->geopandas) (1.1.1)\n",
            "Requirement already satisfied: cligj>=0.5 in /usr/local/lib/python3.10/dist-packages (from fiona>=1.8.19->geopandas) (0.7.2)\n",
            "Requirement already satisfied: six in /usr/local/lib/python3.10/dist-packages (from fiona>=1.8.19->geopandas) (1.16.0)\n",
            "Requirement already satisfied: setuptools in /usr/local/lib/python3.10/dist-packages (from fiona>=1.8.19->geopandas) (67.7.2)\n",
            "Requirement already satisfied: python-dateutil>=2.8.1 in /usr/local/lib/python3.10/dist-packages (from pandas>=1.1.0->geopandas) (2.8.2)\n",
            "Requirement already satisfied: pytz>=2020.1 in /usr/local/lib/python3.10/dist-packages (from pandas>=1.1.0->geopandas) (2023.3.post1)\n",
            "Requirement already satisfied: numpy>=1.21.0 in /usr/local/lib/python3.10/dist-packages (from pandas>=1.1.0->geopandas) (1.23.5)\n",
            "Requirement already satisfied: plotly in /usr/local/lib/python3.10/dist-packages (5.15.0)\n",
            "Requirement already satisfied: tenacity>=6.2.0 in /usr/local/lib/python3.10/dist-packages (from plotly) (8.2.3)\n",
            "Requirement already satisfied: packaging in /usr/local/lib/python3.10/dist-packages (from plotly) (23.2)\n"
          ]
        },
        {
          "output_type": "display_data",
          "data": {
            "text/html": [
              "<html>\n",
              "<head><meta charset=\"utf-8\" /></head>\n",
              "<body>\n",
              "    <div>            <script src=\"https://cdnjs.cloudflare.com/ajax/libs/mathjax/2.7.5/MathJax.js?config=TeX-AMS-MML_SVG\"></script><script type=\"text/javascript\">if (window.MathJax && window.MathJax.Hub && window.MathJax.Hub.Config) {window.MathJax.Hub.Config({SVG: {font: \"STIX-Web\"}});}</script>                <script type=\"text/javascript\">window.PlotlyConfig = {MathJaxConfig: 'local'};</script>\n",
              "        <script charset=\"utf-8\" src=\"https://cdn.plot.ly/plotly-2.24.1.min.js\"></script>                <div id=\"931e334a-7692-4bf0-aeb2-13b6e77b0bac\" class=\"plotly-graph-div\" style=\"height:525px; width:100%;\"></div>            <script type=\"text/javascript\">                                    window.PLOTLYENV=window.PLOTLYENV || {};                                    if (document.getElementById(\"931e334a-7692-4bf0-aeb2-13b6e77b0bac\")) {                    Plotly.newPlot(                        \"931e334a-7692-4bf0-aeb2-13b6e77b0bac\",                        [{\"colorscale\":[[0.0,\"rgb(247,251,255)\"],[0.125,\"rgb(222,235,247)\"],[0.25,\"rgb(198,219,239)\"],[0.375,\"rgb(158,202,225)\"],[0.5,\"rgb(107,174,214)\"],[0.625,\"rgb(66,146,198)\"],[0.75,\"rgb(33,113,181)\"],[0.875,\"rgb(8,81,156)\"],[1.0,\"rgb(8,48,107)\"]],\"hovertemplate\":\"%{text}\",\"locationmode\":\"USA-states\",\"locations\":[\"AK\",\"AL\",\"AR\",\"AZ\",\"CA\",\"CO\",\"FL\",\"GA\",\"HI\",\"IA\",\"ID\",\"IL\",\"IN\",\"KS\",\"KY\",\"LA\",\"MA\",\"MD\",\"ME\",\"MI\",\"MN\",\"MO\",\"MS\",\"NC\",\"ND\",\"NE\",\"NH\",\"NJ\",\"NM\",\"NV\",\"NY\",\"OH\",\"OK\",\"OR\",\"PA\",\"RI\",\"SC\",\"SD\",\"TN\",\"TX\",\"UT\",\"VA\",\"WA\",\"WI\",\"WV\",\"WY\"],\"marker\":{\"line\":{\"color\":\"white\"}},\"text\":[\"EYALET: AK HAP\\u0130S CEZASI ALAN ORTALAMA K\\u0130\\u015e\\u0130 SAYISI: 13977.1\",\"EYALET: AL HAP\\u0130S CEZASI ALAN ORTALAMA K\\u0130\\u015e\\u0130 SAYISI: 10288.2\",\"EYALET: AR HAP\\u0130S CEZASI ALAN ORTALAMA K\\u0130\\u015e\\u0130 SAYISI: 7639.0\",\"EYALET: AZ HAP\\u0130S CEZASI ALAN ORTALAMA K\\u0130\\u015e\\u0130 SAYISI: 15756.2\",\"EYALET: CA HAP\\u0130S CEZASI ALAN ORTALAMA K\\u0130\\u015e\\u0130 SAYISI: 105246.8\",\"EYALET: CO HAP\\u0130S CEZASI ALAN ORTALAMA K\\u0130\\u015e\\u0130 SAYISI: 8581.4\",\"EYALET: FL HAP\\u0130S CEZASI ALAN ORTALAMA K\\u0130\\u015e\\u0130 SAYISI: 30762.6\",\"EYALET: GA HAP\\u0130S CEZASI ALAN ORTALAMA K\\u0130\\u015e\\u0130 SAYISI: 18287.0\",\"EYALET: HI HAP\\u0130S CEZASI ALAN ORTALAMA K\\u0130\\u015e\\u0130 SAYISI: 1777.3\",\"EYALET: IA HAP\\u0130S CEZASI ALAN ORTALAMA K\\u0130\\u015e\\u0130 SAYISI: 4272.2\",\"EYALET: ID HAP\\u0130S CEZASI ALAN ORTALAMA K\\u0130\\u015e\\u0130 SAYISI: 4060.0\",\"EYALET: IL HAP\\u0130S CEZASI ALAN ORTALAMA K\\u0130\\u015e\\u0130 SAYISI: 29805.9\",\"EYALET: IN HAP\\u0130S CEZASI ALAN ORTALAMA K\\u0130\\u015e\\u0130 SAYISI: 17902.6\",\"EYALET: KS HAP\\u0130S CEZASI ALAN ORTALAMA K\\u0130\\u015e\\u0130 SAYISI: 1838.8\",\"EYALET: KY HAP\\u0130S CEZASI ALAN ORTALAMA K\\u0130\\u015e\\u0130 SAYISI: 12623.2\",\"EYALET: LA HAP\\u0130S CEZASI ALAN ORTALAMA K\\u0130\\u015e\\u0130 SAYISI: 15377.7\",\"EYALET: MA HAP\\u0130S CEZASI ALAN ORTALAMA K\\u0130\\u015e\\u0130 SAYISI: 3258.0\",\"EYALET: MD HAP\\u0130S CEZASI ALAN ORTALAMA K\\u0130\\u015e\\u0130 SAYISI: 9107.8\",\"EYALET: ME HAP\\u0130S CEZASI ALAN ORTALAMA K\\u0130\\u015e\\u0130 SAYISI: 869.2\",\"EYALET: MI HAP\\u0130S CEZASI ALAN ORTALAMA K\\u0130\\u015e\\u0130 SAYISI: 12650.8\",\"EYALET: MN HAP\\u0130S CEZASI ALAN ORTALAMA K\\u0130\\u015e\\u0130 SAYISI: 5533.3\",\"EYALET: MO HAP\\u0130S CEZASI ALAN ORTALAMA K\\u0130\\u015e\\u0130 SAYISI: 17847.7\",\"EYALET: MS HAP\\u0130S CEZASI ALAN ORTALAMA K\\u0130\\u015e\\u0130 SAYISI: 8761.6\",\"EYALET: NC HAP\\u0130S CEZASI ALAN ORTALAMA K\\u0130\\u015e\\u0130 SAYISI: 13018.4\",\"EYALET: ND HAP\\u0130S CEZASI ALAN ORTALAMA K\\u0130\\u015e\\u0130 SAYISI: 909.9\",\"EYALET: NE HAP\\u0130S CEZASI ALAN ORTALAMA K\\u0130\\u015e\\u0130 SAYISI: 2265.7\",\"EYALET: NH HAP\\u0130S CEZASI ALAN ORTALAMA K\\u0130\\u015e\\u0130 SAYISI: 1150.0\",\"EYALET: NJ HAP\\u0130S CEZASI ALAN ORTALAMA K\\u0130\\u015e\\u0130 SAYISI: 13069.4\",\"EYALET: NM HAP\\u0130S CEZASI ALAN ORTALAMA K\\u0130\\u015e\\u0130 SAYISI: 3708.0\",\"EYALET: NV HAP\\u0130S CEZASI ALAN ORTALAMA K\\u0130\\u015e\\u0130 SAYISI: 5138.1\",\"EYALET: NY HAP\\u0130S CEZASI ALAN ORTALAMA K\\u0130\\u015e\\u0130 SAYISI: 24896.4\",\"EYALET: OH HAP\\u0130S CEZASI ALAN ORTALAMA K\\u0130\\u015e\\u0130 SAYISI: 22596.6\",\"EYALET: OK HAP\\u0130S CEZASI ALAN ORTALAMA K\\u0130\\u015e\\u0130 SAYISI: 8224.6\",\"EYALET: OR HAP\\u0130S CEZASI ALAN ORTALAMA K\\u0130\\u015e\\u0130 SAYISI: 4549.8\",\"EYALET: PA HAP\\u0130S CEZASI ALAN ORTALAMA K\\u0130\\u015e\\u0130 SAYISI: 16020.4\",\"EYALET: RI HAP\\u0130S CEZASI ALAN ORTALAMA K\\u0130\\u015e\\u0130 SAYISI: 3860.6\",\"EYALET: SC HAP\\u0130S CEZASI ALAN ORTALAMA K\\u0130\\u015e\\u0130 SAYISI: 8932.5\",\"EYALET: SD HAP\\u0130S CEZASI ALAN ORTALAMA K\\u0130\\u015e\\u0130 SAYISI: 1917.5\",\"EYALET: TN HAP\\u0130S CEZASI ALAN ORTALAMA K\\u0130\\u015e\\u0130 SAYISI: 14409.2\",\"EYALET: TX HAP\\u0130S CEZASI ALAN ORTALAMA K\\u0130\\u015e\\u0130 SAYISI: 66472.4\",\"EYALET: UT HAP\\u0130S CEZASI ALAN ORTALAMA K\\u0130\\u015e\\u0130 SAYISI: 3169.2\",\"EYALET: VA HAP\\u0130S CEZASI ALAN ORTALAMA K\\u0130\\u015e\\u0130 SAYISI: 11997.6\",\"EYALET: WA HAP\\u0130S CEZASI ALAN ORTALAMA K\\u0130\\u015e\\u0130 SAYISI: 7322.0\",\"EYALET: WI HAP\\u0130S CEZASI ALAN ORTALAMA K\\u0130\\u015e\\u0130 SAYISI: 8648.2\",\"EYALET: WV HAP\\u0130S CEZASI ALAN ORTALAMA K\\u0130\\u015e\\u0130 SAYISI: 2454.5\",\"EYALET: WY HAP\\u0130S CEZASI ALAN ORTALAMA K\\u0130\\u015e\\u0130 SAYISI: 752.9\"],\"z\":[13977.1,10288.2,7639.0,15756.2,105246.8,8581.4,30762.6,18287.0,1777.3,4272.2,4060.0,29805.9,17902.6,1838.8,12623.2,15377.7,3258.0,9107.8,869.2,12650.8,5533.3,17847.7,8761.6,13018.4,909.9,2265.7,1150.0,13069.4,3708.0,5138.1,24896.4,22596.6,8224.6,4549.8,16020.4,3860.6,8932.5,1917.5,14409.2,66472.4,3169.2,11997.6,7322.0,8648.2,2454.5,752.9],\"zmax\":55000,\"zmin\":0,\"type\":\"choropleth\"}],                        {\"template\":{\"data\":{\"histogram2dcontour\":[{\"type\":\"histogram2dcontour\",\"colorbar\":{\"outlinewidth\":0,\"ticks\":\"\"},\"colorscale\":[[0.0,\"#0d0887\"],[0.1111111111111111,\"#46039f\"],[0.2222222222222222,\"#7201a8\"],[0.3333333333333333,\"#9c179e\"],[0.4444444444444444,\"#bd3786\"],[0.5555555555555556,\"#d8576b\"],[0.6666666666666666,\"#ed7953\"],[0.7777777777777778,\"#fb9f3a\"],[0.8888888888888888,\"#fdca26\"],[1.0,\"#f0f921\"]]}],\"choropleth\":[{\"type\":\"choropleth\",\"colorbar\":{\"outlinewidth\":0,\"ticks\":\"\"}}],\"histogram2d\":[{\"type\":\"histogram2d\",\"colorbar\":{\"outlinewidth\":0,\"ticks\":\"\"},\"colorscale\":[[0.0,\"#0d0887\"],[0.1111111111111111,\"#46039f\"],[0.2222222222222222,\"#7201a8\"],[0.3333333333333333,\"#9c179e\"],[0.4444444444444444,\"#bd3786\"],[0.5555555555555556,\"#d8576b\"],[0.6666666666666666,\"#ed7953\"],[0.7777777777777778,\"#fb9f3a\"],[0.8888888888888888,\"#fdca26\"],[1.0,\"#f0f921\"]]}],\"heatmap\":[{\"type\":\"heatmap\",\"colorbar\":{\"outlinewidth\":0,\"ticks\":\"\"},\"colorscale\":[[0.0,\"#0d0887\"],[0.1111111111111111,\"#46039f\"],[0.2222222222222222,\"#7201a8\"],[0.3333333333333333,\"#9c179e\"],[0.4444444444444444,\"#bd3786\"],[0.5555555555555556,\"#d8576b\"],[0.6666666666666666,\"#ed7953\"],[0.7777777777777778,\"#fb9f3a\"],[0.8888888888888888,\"#fdca26\"],[1.0,\"#f0f921\"]]}],\"heatmapgl\":[{\"type\":\"heatmapgl\",\"colorbar\":{\"outlinewidth\":0,\"ticks\":\"\"},\"colorscale\":[[0.0,\"#0d0887\"],[0.1111111111111111,\"#46039f\"],[0.2222222222222222,\"#7201a8\"],[0.3333333333333333,\"#9c179e\"],[0.4444444444444444,\"#bd3786\"],[0.5555555555555556,\"#d8576b\"],[0.6666666666666666,\"#ed7953\"],[0.7777777777777778,\"#fb9f3a\"],[0.8888888888888888,\"#fdca26\"],[1.0,\"#f0f921\"]]}],\"contourcarpet\":[{\"type\":\"contourcarpet\",\"colorbar\":{\"outlinewidth\":0,\"ticks\":\"\"}}],\"contour\":[{\"type\":\"contour\",\"colorbar\":{\"outlinewidth\":0,\"ticks\":\"\"},\"colorscale\":[[0.0,\"#0d0887\"],[0.1111111111111111,\"#46039f\"],[0.2222222222222222,\"#7201a8\"],[0.3333333333333333,\"#9c179e\"],[0.4444444444444444,\"#bd3786\"],[0.5555555555555556,\"#d8576b\"],[0.6666666666666666,\"#ed7953\"],[0.7777777777777778,\"#fb9f3a\"],[0.8888888888888888,\"#fdca26\"],[1.0,\"#f0f921\"]]}],\"surface\":[{\"type\":\"surface\",\"colorbar\":{\"outlinewidth\":0,\"ticks\":\"\"},\"colorscale\":[[0.0,\"#0d0887\"],[0.1111111111111111,\"#46039f\"],[0.2222222222222222,\"#7201a8\"],[0.3333333333333333,\"#9c179e\"],[0.4444444444444444,\"#bd3786\"],[0.5555555555555556,\"#d8576b\"],[0.6666666666666666,\"#ed7953\"],[0.7777777777777778,\"#fb9f3a\"],[0.8888888888888888,\"#fdca26\"],[1.0,\"#f0f921\"]]}],\"mesh3d\":[{\"type\":\"mesh3d\",\"colorbar\":{\"outlinewidth\":0,\"ticks\":\"\"}}],\"scatter\":[{\"fillpattern\":{\"fillmode\":\"overlay\",\"size\":10,\"solidity\":0.2},\"type\":\"scatter\"}],\"parcoords\":[{\"type\":\"parcoords\",\"line\":{\"colorbar\":{\"outlinewidth\":0,\"ticks\":\"\"}}}],\"scatterpolargl\":[{\"type\":\"scatterpolargl\",\"marker\":{\"colorbar\":{\"outlinewidth\":0,\"ticks\":\"\"}}}],\"bar\":[{\"error_x\":{\"color\":\"#2a3f5f\"},\"error_y\":{\"color\":\"#2a3f5f\"},\"marker\":{\"line\":{\"color\":\"#E5ECF6\",\"width\":0.5},\"pattern\":{\"fillmode\":\"overlay\",\"size\":10,\"solidity\":0.2}},\"type\":\"bar\"}],\"scattergeo\":[{\"type\":\"scattergeo\",\"marker\":{\"colorbar\":{\"outlinewidth\":0,\"ticks\":\"\"}}}],\"scatterpolar\":[{\"type\":\"scatterpolar\",\"marker\":{\"colorbar\":{\"outlinewidth\":0,\"ticks\":\"\"}}}],\"histogram\":[{\"marker\":{\"pattern\":{\"fillmode\":\"overlay\",\"size\":10,\"solidity\":0.2}},\"type\":\"histogram\"}],\"scattergl\":[{\"type\":\"scattergl\",\"marker\":{\"colorbar\":{\"outlinewidth\":0,\"ticks\":\"\"}}}],\"scatter3d\":[{\"type\":\"scatter3d\",\"line\":{\"colorbar\":{\"outlinewidth\":0,\"ticks\":\"\"}},\"marker\":{\"colorbar\":{\"outlinewidth\":0,\"ticks\":\"\"}}}],\"scattermapbox\":[{\"type\":\"scattermapbox\",\"marker\":{\"colorbar\":{\"outlinewidth\":0,\"ticks\":\"\"}}}],\"scatterternary\":[{\"type\":\"scatterternary\",\"marker\":{\"colorbar\":{\"outlinewidth\":0,\"ticks\":\"\"}}}],\"scattercarpet\":[{\"type\":\"scattercarpet\",\"marker\":{\"colorbar\":{\"outlinewidth\":0,\"ticks\":\"\"}}}],\"carpet\":[{\"aaxis\":{\"endlinecolor\":\"#2a3f5f\",\"gridcolor\":\"white\",\"linecolor\":\"white\",\"minorgridcolor\":\"white\",\"startlinecolor\":\"#2a3f5f\"},\"baxis\":{\"endlinecolor\":\"#2a3f5f\",\"gridcolor\":\"white\",\"linecolor\":\"white\",\"minorgridcolor\":\"white\",\"startlinecolor\":\"#2a3f5f\"},\"type\":\"carpet\"}],\"table\":[{\"cells\":{\"fill\":{\"color\":\"#EBF0F8\"},\"line\":{\"color\":\"white\"}},\"header\":{\"fill\":{\"color\":\"#C8D4E3\"},\"line\":{\"color\":\"white\"}},\"type\":\"table\"}],\"barpolar\":[{\"marker\":{\"line\":{\"color\":\"#E5ECF6\",\"width\":0.5},\"pattern\":{\"fillmode\":\"overlay\",\"size\":10,\"solidity\":0.2}},\"type\":\"barpolar\"}],\"pie\":[{\"automargin\":true,\"type\":\"pie\"}]},\"layout\":{\"autotypenumbers\":\"strict\",\"colorway\":[\"#636efa\",\"#EF553B\",\"#00cc96\",\"#ab63fa\",\"#FFA15A\",\"#19d3f3\",\"#FF6692\",\"#B6E880\",\"#FF97FF\",\"#FECB52\"],\"font\":{\"color\":\"#2a3f5f\"},\"hovermode\":\"closest\",\"hoverlabel\":{\"align\":\"left\"},\"paper_bgcolor\":\"white\",\"plot_bgcolor\":\"#E5ECF6\",\"polar\":{\"bgcolor\":\"#E5ECF6\",\"angularaxis\":{\"gridcolor\":\"white\",\"linecolor\":\"white\",\"ticks\":\"\"},\"radialaxis\":{\"gridcolor\":\"white\",\"linecolor\":\"white\",\"ticks\":\"\"}},\"ternary\":{\"bgcolor\":\"#E5ECF6\",\"aaxis\":{\"gridcolor\":\"white\",\"linecolor\":\"white\",\"ticks\":\"\"},\"baxis\":{\"gridcolor\":\"white\",\"linecolor\":\"white\",\"ticks\":\"\"},\"caxis\":{\"gridcolor\":\"white\",\"linecolor\":\"white\",\"ticks\":\"\"}},\"coloraxis\":{\"colorbar\":{\"outlinewidth\":0,\"ticks\":\"\"}},\"colorscale\":{\"sequential\":[[0.0,\"#0d0887\"],[0.1111111111111111,\"#46039f\"],[0.2222222222222222,\"#7201a8\"],[0.3333333333333333,\"#9c179e\"],[0.4444444444444444,\"#bd3786\"],[0.5555555555555556,\"#d8576b\"],[0.6666666666666666,\"#ed7953\"],[0.7777777777777778,\"#fb9f3a\"],[0.8888888888888888,\"#fdca26\"],[1.0,\"#f0f921\"]],\"sequentialminus\":[[0.0,\"#0d0887\"],[0.1111111111111111,\"#46039f\"],[0.2222222222222222,\"#7201a8\"],[0.3333333333333333,\"#9c179e\"],[0.4444444444444444,\"#bd3786\"],[0.5555555555555556,\"#d8576b\"],[0.6666666666666666,\"#ed7953\"],[0.7777777777777778,\"#fb9f3a\"],[0.8888888888888888,\"#fdca26\"],[1.0,\"#f0f921\"]],\"diverging\":[[0,\"#8e0152\"],[0.1,\"#c51b7d\"],[0.2,\"#de77ae\"],[0.3,\"#f1b6da\"],[0.4,\"#fde0ef\"],[0.5,\"#f7f7f7\"],[0.6,\"#e6f5d0\"],[0.7,\"#b8e186\"],[0.8,\"#7fbc41\"],[0.9,\"#4d9221\"],[1,\"#276419\"]]},\"xaxis\":{\"gridcolor\":\"white\",\"linecolor\":\"white\",\"ticks\":\"\",\"title\":{\"standoff\":15},\"zerolinecolor\":\"white\",\"automargin\":true,\"zerolinewidth\":2},\"yaxis\":{\"gridcolor\":\"white\",\"linecolor\":\"white\",\"ticks\":\"\",\"title\":{\"standoff\":15},\"zerolinecolor\":\"white\",\"automargin\":true,\"zerolinewidth\":2},\"scene\":{\"xaxis\":{\"backgroundcolor\":\"#E5ECF6\",\"gridcolor\":\"white\",\"linecolor\":\"white\",\"showbackground\":true,\"ticks\":\"\",\"zerolinecolor\":\"white\",\"gridwidth\":2},\"yaxis\":{\"backgroundcolor\":\"#E5ECF6\",\"gridcolor\":\"white\",\"linecolor\":\"white\",\"showbackground\":true,\"ticks\":\"\",\"zerolinecolor\":\"white\",\"gridwidth\":2},\"zaxis\":{\"backgroundcolor\":\"#E5ECF6\",\"gridcolor\":\"white\",\"linecolor\":\"white\",\"showbackground\":true,\"ticks\":\"\",\"zerolinecolor\":\"white\",\"gridwidth\":2}},\"shapedefaults\":{\"line\":{\"color\":\"#2a3f5f\"}},\"annotationdefaults\":{\"arrowcolor\":\"#2a3f5f\",\"arrowhead\":0,\"arrowwidth\":1},\"geo\":{\"bgcolor\":\"white\",\"landcolor\":\"#E5ECF6\",\"subunitcolor\":\"white\",\"showland\":true,\"showlakes\":true,\"lakecolor\":\"white\"},\"title\":{\"x\":0.05},\"mapbox\":{\"style\":\"light\"}}},\"dragmode\":false,\"title\":{\"text\":\"USA Eyaletlere G\\u00f6re Hapis Cezas\\u0131 Alan Ortalama Ki\\u015fi Say\\u0131s\\u0131 (1996-2015)\"},\"annotations\":[{\"showarrow\":false,\"text\":\"Not: Renklendirilmeyen eyaletler i\\u00e7in 1996-2005 y\\u0131llar\\u0131 aras\\u0131nda veri bulunmamaktad\\u0131r.\",\"x\":0,\"xref\":\"paper\",\"y\":-0.15,\"yref\":\"paper\"}],\"geo\":{\"scope\":\"usa\"}},                        {\"responsive\": true}                    ).then(function(){\n",
              "                            \n",
              "var gd = document.getElementById('931e334a-7692-4bf0-aeb2-13b6e77b0bac');\n",
              "var x = new MutationObserver(function (mutations, observer) {{\n",
              "        var display = window.getComputedStyle(gd).display;\n",
              "        if (!display || display === 'none') {{\n",
              "            console.log([gd, 'removed!']);\n",
              "            Plotly.purge(gd);\n",
              "            observer.disconnect();\n",
              "        }}\n",
              "}});\n",
              "\n",
              "// Listen for the removal of the full notebook cells\n",
              "var notebookContainer = gd.closest('#notebook-container');\n",
              "if (notebookContainer) {{\n",
              "    x.observe(notebookContainer, {childList: true});\n",
              "}}\n",
              "\n",
              "// Listen for the clearing of the current output cell\n",
              "var outputEl = gd.closest('.output');\n",
              "if (outputEl) {{\n",
              "    x.observe(outputEl, {childList: true});\n",
              "}}\n",
              "\n",
              "                        })                };                            </script>        </div>\n",
              "</body>\n",
              "</html>"
            ]
          },
          "metadata": {}
        }
      ],
      "source": [
        "!pip install geopandas\n",
        "!pip install plotly\n",
        "import pandas as pd\n",
        "import matplotlib.pyplot as plt\n",
        "import seaborn as sns\n",
        "import numpy as np\n",
        "import json\n",
        "import requests\n",
        "import geopandas as gpd\n",
        "import matplotlib.pyplot as plt\n",
        "import plotly.graph_objects as go\n",
        "import ipywidgets as widgets\n",
        "from IPython.display import display\n",
        "url=\"https://raw.githubusercontent.com/rfordatascience/tidytuesday/master/data/2019/2019-01-22/incarceration_trends.csv\"\n",
        "\n",
        "data = pd.read_csv(url)\n",
        "data_1 = data[(data['year'] >= 1996) & (data['year'] <= 2015)]\n",
        "selected_columns = ['year', 'state','total_prison_adm']\n",
        "data_1 = data_1[selected_columns]\n",
        "\n",
        "data_1 = data_1.dropna(subset=['total_prison_adm']).groupby([\"state\",\"year\"])[['total_prison_adm']].sum()\n",
        "data_1 = data_1.groupby([\"state\"])[[\"total_prison_adm\"]].mean().round(1)\n",
        "data_1 = pd.DataFrame(data_1).reset_index()\n",
        "\n",
        "\n",
        "\n",
        "fig = go.Figure()\n",
        "fig.add_trace(go.Choropleth(\n",
        "    locations=data_1['state'],\n",
        "    locationmode=\"USA-states\",\n",
        "    z=data_1['total_prison_adm'],\n",
        "    zmax=55000,\n",
        "    zmin=0,\n",
        "    colorscale=\"blues\",\n",
        "    text=\"EYALET: \" + data_1['state'] + \"\" +\" HAPİS CEZASI ALAN ORTALAMA KİŞİ SAYISI: \" + data_1['total_prison_adm'].astype(str),\n",
        "    hovertemplate=\"%{text}\",\n",
        "    marker_line_color='white'\n",
        "))\n",
        "\n",
        "fig.update_layout(\n",
        "    dragmode=False,\n",
        "    title=\"USA Eyaletlere Göre Hapis Cezası Alan Ortalama Kişi Sayısı (1996-2015)\",\n",
        "   annotations=[\n",
        "        dict(\n",
        "            text=\"Not: Renklendirilmeyen eyaletler için 1996-2005 yılları arasında veri bulunmamaktadır.\",\n",
        "            showarrow=False,\n",
        "            xref=\"paper\",\n",
        "            yref=\"paper\",\n",
        "            x=0,\n",
        "            y=-0.15\n",
        "        )\n",
        "    ]\n",
        ")\n",
        "\n",
        "fig.update_geos(scope=\"usa\")\n",
        "fig.show()"
      ]
    }
  ]
}